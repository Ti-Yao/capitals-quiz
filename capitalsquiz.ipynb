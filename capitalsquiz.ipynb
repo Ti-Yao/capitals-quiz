{
 "cells": [
  {
   "cell_type": "code",
   "execution_count": 1,
   "id": "1d309bdd",
   "metadata": {},
   "outputs": [],
   "source": [
    "import random\n",
    "import pandas as pd\n",
    "from Levenshtein import distance as levenshtein_distance\n",
    "\n",
    "df = pd.read_csv('capital.csv').set_index('Continent')\n",
    "\n",
    "continent = input('Continent')\n",
    "N = 'all'\n",
    "\n",
    "continent_df = df.loc[continent]\n",
    "\n",
    "pairs = dict(zip(continent_df.Country, continent_df.Capital))\n",
    "\n",
    "countries = random.sample(continent_df.Country.tolist(), N if N != 'all' else len(continent_df.Country.tolist()))\n",
    "\n",
    "def result(score,country, answer):\n",
    "    if levenshtein_distance(answer.lower(), pairs[country].lower()) <=1:\n",
    "        score += 1\n",
    "        response = 'Correct\\n'\n",
    "        if levenshtein_distance(answer.lower(), pairs[country].lower()) ==1:\n",
    "            response = response.replace('\\n',  f'  ({pairs[country]})\\n' )\n",
    "        print(response)\n",
    "    else:\n",
    "        print(pairs[country],'\\n')\n",
    "\n",
    "\n",
    "def create_choice(country, n = 3):\n",
    "    current_continent = continent_df.loc[continent_df['Country'] == country].index.values[0]\n",
    "    continent_countries = continent_df.loc[current_continent].Capital.tolist()\n",
    "    continent_countries.remove(pairs[country])        \n",
    "    answers = [pairs[country]] + random.sample(continent_countries, n - 1)\n",
    "    random.shuffle(answers)\n",
    "    print(f'1) {answers[0]}\\t2) {answers[1]}\\t3) {answers[2]}')\n",
    "    return answers\n",
    "\n",
    "def run_quiz_multi(countries):\n",
    "    score = 0\n",
    "    for country in countries:\n",
    "        answers = create_choice(country)\n",
    "        choice = int(input(country+'\\t'))\n",
    "        answer = answers[choice-1]\n",
    "        result(score, country, answer)\n",
    "    print(\"you got\", score, \"out of\", len(countries))\n",
    "\n",
    "\n",
    "def run_quiz(countries):\n",
    "    score = 0\n",
    "    for country in countries:\n",
    "        answer = input(f'{country}\\t')\n",
    "        result(score, country, answer)\n",
    "    print(\"you got\", score, \"out of\", len(countries))\n",
    "\n",
    "run_quiz_multi(countries)"
   ]
  },
  {
   "cell_type": "code",
   "execution_count": 25,
   "id": "46c681f0",
   "metadata": {},
   "outputs": [
    {
     "name": "stdout",
     "output_type": "stream",
     "text": [
      "1 Europe\n",
      "2 North America\n",
      "3 Asia\n",
      "4 Oceania\n",
      "5 Africa\n",
      "3\n"
     ]
    }
   ],
   "source": [
    "continents = df.index.unique().tolist()\n",
    "\n",
    "for number, letter in enumerate(continents):\n",
    "    print(number + 1, letter)\n",
    "\n",
    "continent = int(input())\n",
    "continent = continents[continent-1]"
   ]
  },
  {
   "cell_type": "code",
   "execution_count": 26,
   "id": "77cd7151",
   "metadata": {},
   "outputs": [
    {
     "data": {
      "text/plain": [
       "'Asia'"
      ]
     },
     "execution_count": 26,
     "metadata": {},
     "output_type": "execute_result"
    }
   ],
   "source": [
    "continent"
   ]
  },
  {
   "cell_type": "code",
   "execution_count": null,
   "id": "08ed80f6",
   "metadata": {},
   "outputs": [],
   "source": []
  }
 ],
 "metadata": {
  "kernelspec": {
   "display_name": "Python 3 (ipykernel)",
   "language": "python",
   "name": "python3"
  },
  "language_info": {
   "codemirror_mode": {
    "name": "ipython",
    "version": 3
   },
   "file_extension": ".py",
   "mimetype": "text/x-python",
   "name": "python",
   "nbconvert_exporter": "python",
   "pygments_lexer": "ipython3",
   "version": "3.9.5"
  }
 },
 "nbformat": 4,
 "nbformat_minor": 5
}
